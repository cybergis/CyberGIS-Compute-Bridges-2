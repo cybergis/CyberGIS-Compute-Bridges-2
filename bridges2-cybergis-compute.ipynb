{
 "cells": [
  {
   "cell_type": "markdown",
   "metadata": {},
   "source": [
    "## This is cybergis-compute for Bridges-2"
   ]
  },
  {
   "cell_type": "code",
   "execution_count": 1,
   "metadata": {},
   "outputs": [
    {
     "name": "stdout",
     "output_type": "stream",
     "text": [
      "fatal: cannot change to 'job-supervisor-python-sdk': No such file or directory\n",
      "Cloning into 'job-supervisor-python-sdk'...\n",
      "remote: Enumerating objects: 258, done.\u001b[K\n",
      "remote: Counting objects: 100% (258/258), done.\u001b[K\n",
      "remote: Compressing objects: 100% (163/163), done.\u001b[K\n",
      "remote: Total 258 (delta 151), reused 187 (delta 85), pack-reused 0\u001b[K\n",
      "Receiving objects: 100% (258/258), 364.99 KiB | 4.10 MiB/s, done.\n",
      "Resolving deltas: 100% (151/151), done.\n",
      "running install\n",
      "running bdist_egg\n",
      "running egg_info\n",
      "creating cybergis_compute_client.egg-info\n",
      "writing cybergis_compute_client.egg-info/PKG-INFO\n",
      "writing dependency_links to cybergis_compute_client.egg-info/dependency_links.txt\n",
      "writing requirements to cybergis_compute_client.egg-info/requires.txt\n",
      "writing top-level names to cybergis_compute_client.egg-info/top_level.txt\n",
      "writing manifest file 'cybergis_compute_client.egg-info/SOURCES.txt'\n",
      "reading manifest file 'cybergis_compute_client.egg-info/SOURCES.txt'\n",
      "writing manifest file 'cybergis_compute_client.egg-info/SOURCES.txt'\n",
      "installing library code to build/bdist.macosx-10.9-x86_64/egg\n",
      "running install_lib\n",
      "running build_py\n",
      "creating build\n",
      "creating build/lib\n",
      "creating build/lib/cybergis_compute_client\n",
      "copying cybergis_compute_client/CyberGISCompute.py -> build/lib/cybergis_compute_client\n",
      "copying cybergis_compute_client/Job.py -> build/lib/cybergis_compute_client\n",
      "copying cybergis_compute_client/Client.py -> build/lib/cybergis_compute_client\n",
      "copying cybergis_compute_client/__init__.py -> build/lib/cybergis_compute_client\n",
      "copying cybergis_compute_client/Zip.py -> build/lib/cybergis_compute_client\n",
      "copying cybergis_compute_client/JAT.py -> build/lib/cybergis_compute_client\n",
      "creating build/bdist.macosx-10.9-x86_64\n",
      "creating build/bdist.macosx-10.9-x86_64/egg\n",
      "creating build/bdist.macosx-10.9-x86_64/egg/cybergis_compute_client\n",
      "copying build/lib/cybergis_compute_client/CyberGISCompute.py -> build/bdist.macosx-10.9-x86_64/egg/cybergis_compute_client\n",
      "copying build/lib/cybergis_compute_client/Job.py -> build/bdist.macosx-10.9-x86_64/egg/cybergis_compute_client\n",
      "copying build/lib/cybergis_compute_client/Client.py -> build/bdist.macosx-10.9-x86_64/egg/cybergis_compute_client\n",
      "copying build/lib/cybergis_compute_client/__init__.py -> build/bdist.macosx-10.9-x86_64/egg/cybergis_compute_client\n",
      "copying build/lib/cybergis_compute_client/Zip.py -> build/bdist.macosx-10.9-x86_64/egg/cybergis_compute_client\n",
      "copying build/lib/cybergis_compute_client/JAT.py -> build/bdist.macosx-10.9-x86_64/egg/cybergis_compute_client\n",
      "byte-compiling build/bdist.macosx-10.9-x86_64/egg/cybergis_compute_client/CyberGISCompute.py to CyberGISCompute.cpython-38.pyc\n",
      "byte-compiling build/bdist.macosx-10.9-x86_64/egg/cybergis_compute_client/Job.py to Job.cpython-38.pyc\n",
      "byte-compiling build/bdist.macosx-10.9-x86_64/egg/cybergis_compute_client/Client.py to Client.cpython-38.pyc\n",
      "byte-compiling build/bdist.macosx-10.9-x86_64/egg/cybergis_compute_client/__init__.py to __init__.cpython-38.pyc\n",
      "byte-compiling build/bdist.macosx-10.9-x86_64/egg/cybergis_compute_client/Zip.py to Zip.cpython-38.pyc\n",
      "byte-compiling build/bdist.macosx-10.9-x86_64/egg/cybergis_compute_client/JAT.py to JAT.cpython-38.pyc\n",
      "creating build/bdist.macosx-10.9-x86_64/egg/EGG-INFO\n",
      "copying cybergis_compute_client.egg-info/PKG-INFO -> build/bdist.macosx-10.9-x86_64/egg/EGG-INFO\n",
      "copying cybergis_compute_client.egg-info/SOURCES.txt -> build/bdist.macosx-10.9-x86_64/egg/EGG-INFO\n",
      "copying cybergis_compute_client.egg-info/dependency_links.txt -> build/bdist.macosx-10.9-x86_64/egg/EGG-INFO\n",
      "copying cybergis_compute_client.egg-info/requires.txt -> build/bdist.macosx-10.9-x86_64/egg/EGG-INFO\n",
      "copying cybergis_compute_client.egg-info/top_level.txt -> build/bdist.macosx-10.9-x86_64/egg/EGG-INFO\n",
      "zip_safe flag not set; analyzing archive contents...\n",
      "creating dist\n",
      "creating 'dist/cybergis_compute_client-0.0.2-py3.8.egg' and adding 'build/bdist.macosx-10.9-x86_64/egg' to it\n",
      "removing 'build/bdist.macosx-10.9-x86_64/egg' (and everything under it)\n",
      "Processing cybergis_compute_client-0.0.2-py3.8.egg\n",
      "Copying cybergis_compute_client-0.0.2-py3.8.egg to /Users/carnivalbug/opt/anaconda3/lib/python3.8/site-packages\n",
      "Adding cybergis-compute-client 0.0.2 to easy-install.pth file\n",
      "\n",
      "Installed /Users/carnivalbug/opt/anaconda3/lib/python3.8/site-packages/cybergis_compute_client-0.0.2-py3.8.egg\n",
      "Processing dependencies for cybergis-compute-client==0.0.2\n",
      "Searching for tabulate\n",
      "Reading https://pypi.org/simple/tabulate/\n",
      "Downloading https://files.pythonhosted.org/packages/ca/80/7c0cad11bd99985cfe7c09427ee0b4f9bd6b048bd13d4ffb32c6db237dfb/tabulate-0.8.9-py3-none-any.whl#sha256=d7c013fe7abbc5e491394e10fa845f8f32fe54f8dc60c6622c6cf482d25d47e4\n",
      "Best match: tabulate 0.8.9\n",
      "Processing tabulate-0.8.9-py3-none-any.whl\n",
      "Installing tabulate-0.8.9-py3-none-any.whl to /Users/carnivalbug/opt/anaconda3/lib/python3.8/site-packages\n",
      "Adding tabulate 0.8.9 to easy-install.pth file\n",
      "Installing tabulate script to /Users/carnivalbug/opt/anaconda3/bin\n",
      "\n",
      "Installed /Users/carnivalbug/opt/anaconda3/lib/python3.8/site-packages/tabulate-0.8.9-py3.8.egg\n",
      "Searching for ipython==7.19.0\n",
      "Best match: ipython 7.19.0\n",
      "Adding ipython 7.19.0 to easy-install.pth file\n",
      "Installing iptest script to /Users/carnivalbug/opt/anaconda3/bin\n",
      "Installing iptest3 script to /Users/carnivalbug/opt/anaconda3/bin\n",
      "Installing ipython script to /Users/carnivalbug/opt/anaconda3/bin\n",
      "Installing ipython3 script to /Users/carnivalbug/opt/anaconda3/bin\n",
      "\n",
      "Using /Users/carnivalbug/opt/anaconda3/lib/python3.8/site-packages\n",
      "Searching for backcall==0.2.0\n",
      "Best match: backcall 0.2.0\n",
      "Adding backcall 0.2.0 to easy-install.pth file\n",
      "\n",
      "Using /Users/carnivalbug/opt/anaconda3/lib/python3.8/site-packages\n",
      "Searching for decorator==4.4.2\n",
      "Best match: decorator 4.4.2\n",
      "Adding decorator 4.4.2 to easy-install.pth file\n",
      "\n",
      "Using /Users/carnivalbug/opt/anaconda3/lib/python3.8/site-packages\n",
      "Searching for Pygments==2.7.2\n",
      "Best match: Pygments 2.7.2\n",
      "Adding Pygments 2.7.2 to easy-install.pth file\n",
      "Installing pygmentize script to /Users/carnivalbug/opt/anaconda3/bin\n",
      "\n",
      "Using /Users/carnivalbug/opt/anaconda3/lib/python3.8/site-packages\n",
      "Searching for traitlets==5.0.5\n",
      "Best match: traitlets 5.0.5\n",
      "Adding traitlets 5.0.5 to easy-install.pth file\n",
      "\n",
      "Using /Users/carnivalbug/opt/anaconda3/lib/python3.8/site-packages\n",
      "Searching for prompt-toolkit==3.0.8\n",
      "Best match: prompt-toolkit 3.0.8\n",
      "Adding prompt-toolkit 3.0.8 to easy-install.pth file\n",
      "\n",
      "Using /Users/carnivalbug/opt/anaconda3/lib/python3.8/site-packages\n",
      "Searching for appnope==0.1.0\n",
      "Best match: appnope 0.1.0\n",
      "Adding appnope 0.1.0 to easy-install.pth file\n",
      "\n",
      "Using /Users/carnivalbug/opt/anaconda3/lib/python3.8/site-packages\n",
      "Searching for setuptools==50.3.1.post20201107\n",
      "Best match: setuptools 50.3.1.post20201107\n",
      "Adding setuptools 50.3.1.post20201107 to easy-install.pth file\n",
      "Installing easy_install script to /Users/carnivalbug/opt/anaconda3/bin\n",
      "\n",
      "Using /Users/carnivalbug/opt/anaconda3/lib/python3.8/site-packages\n",
      "Searching for pickleshare==0.7.5\n",
      "Best match: pickleshare 0.7.5\n",
      "Adding pickleshare 0.7.5 to easy-install.pth file\n",
      "\n",
      "Using /Users/carnivalbug/opt/anaconda3/lib/python3.8/site-packages\n",
      "Searching for pexpect==4.8.0\n",
      "Best match: pexpect 4.8.0\n",
      "Adding pexpect 4.8.0 to easy-install.pth file\n",
      "\n",
      "Using /Users/carnivalbug/opt/anaconda3/lib/python3.8/site-packages\n",
      "Searching for jedi==0.17.1\n",
      "Best match: jedi 0.17.1\n",
      "Adding jedi 0.17.1 to easy-install.pth file\n",
      "\n",
      "Using /Users/carnivalbug/opt/anaconda3/lib/python3.8/site-packages\n",
      "Searching for ipython-genutils==0.2.0\n",
      "Best match: ipython-genutils 0.2.0\n",
      "Adding ipython-genutils 0.2.0 to easy-install.pth file\n",
      "\n",
      "Using /Users/carnivalbug/opt/anaconda3/lib/python3.8/site-packages\n",
      "Searching for wcwidth==0.2.5\n",
      "Best match: wcwidth 0.2.5\n",
      "Adding wcwidth 0.2.5 to easy-install.pth file\n",
      "\n",
      "Using /Users/carnivalbug/opt/anaconda3/lib/python3.8/site-packages\n",
      "Searching for ptyprocess==0.6.0\n",
      "Best match: ptyprocess 0.6.0\n",
      "Adding ptyprocess 0.6.0 to easy-install.pth file\n",
      "\n",
      "Using /Users/carnivalbug/opt/anaconda3/lib/python3.8/site-packages\n",
      "Searching for parso==0.7.0\n",
      "Best match: parso 0.7.0\n",
      "Adding parso 0.7.0 to easy-install.pth file\n",
      "\n",
      "Using /Users/carnivalbug/opt/anaconda3/lib/python3.8/site-packages\n",
      "Finished processing dependencies for cybergis-compute-client==0.0.2\n"
     ]
    }
   ],
   "source": [
    "!git -C job-supervisor-python-sdk pull || \\\n",
    "    (git clone -b v2 https://github.com/cybergis/job-supervisor-python-sdk.git && \\\n",
    "     cd job-supervisor-python-sdk/ && \\\n",
    "     python setup.py install)"
   ]
  },
  {
   "cell_type": "code",
   "execution_count": 1,
   "metadata": {},
   "outputs": [],
   "source": [
    "from cybergis_compute_client import CyberGISCompute"
   ]
  },
  {
   "cell_type": "code",
   "execution_count": 2,
   "metadata": {},
   "outputs": [],
   "source": [
    "cybergis = CyberGISCompute(url=\"cgjobsup-dev.cigi.illinois.edu\", port=3030, protocol='HTTP', isJupyter=True)"
   ]
  },
  {
   "cell_type": "code",
   "execution_count": 3,
   "metadata": {},
   "outputs": [
    {
     "data": {
      "text/html": [
       "<table>\n",
       "<thead>\n",
       "<tr><th style=\"text-align:left\">hpc              </th><th style=\"text-align:left\">ip                        </th><th style=\"text-align:left\">port  </th><th style=\"text-align:left\">is_community_account  </th></tr>\n",
       "</thead>\n",
       "<tbody>\n",
       "<tr><td style=\"text-align:left\">keeling_community</td><td style=\"text-align:left\">keeling.earth.illinois.edu</td><td style=\"text-align:left\">22    </td><td style=\"text-align:left\">True                  </td></tr>\n",
       "<tr><td style=\"text-align:left\">bridges_community</td><td style=\"text-align:left\">bridges2.psc.edu          </td><td style=\"text-align:left\">22    </td><td style=\"text-align:left\">True                  </td></tr>\n",
       "<tr><td style=\"text-align:left\">hadoop           </td><td style=\"text-align:left\">hadoop01.cigi.illinois.edu</td><td style=\"text-align:left\">50022 </td><td style=\"text-align:left\">False                 </td></tr>\n",
       "</tbody>\n",
       "</table>"
      ],
      "text/plain": [
       "<IPython.core.display.HTML object>"
      ]
     },
     "metadata": {},
     "output_type": "display_data"
    }
   ],
   "source": [
    "cybergis.list_hpc()"
   ]
  },
  {
   "cell_type": "code",
   "execution_count": 4,
   "metadata": {},
   "outputs": [
    {
     "data": {
      "text/html": [
       "<table>\n",
       "<thead>\n",
       "<tr><th style=\"text-align:left\">maintainer             </th><th style=\"text-align:left\">hpc                                       </th><th style=\"text-align:left\">default_hpc      </th><th style=\"text-align:left\">job_pool_capacity  </th><th style=\"text-align:left\">executable_folder-&gt;from_user  </th><th style=\"text-align:left\">executable_folder-&gt;must_have                                                     </th></tr>\n",
       "</thead>\n",
       "<tbody>\n",
       "<tr><td style=\"text-align:left\">SUMMA                  </td><td style=\"text-align:left\">[&#x27;keeling_community&#x27;]                     </td><td style=\"text-align:left\">keeling_community</td><td style=\"text-align:left\">5                  </td><td style=\"text-align:left\">True                          </td><td style=\"text-align:left\">[&#x27;summa_options.json&#x27;, &#x27;installTestCases_local.sh&#x27;, &#x27;data&#x27;, &#x27;output&#x27;, &#x27;settings&#x27;]</td></tr>\n",
       "<tr><td style=\"text-align:left\">hello_world_singularity</td><td style=\"text-align:left\">[&#x27;keeling_community&#x27;]                     </td><td style=\"text-align:left\">keeling_community</td><td style=\"text-align:left\">5                  </td><td style=\"text-align:left\">False                         </td><td style=\"text-align:left\">not specified                                                                    </td></tr>\n",
       "<tr><td style=\"text-align:left\">community_contribution </td><td style=\"text-align:left\">[&#x27;keeling_community&#x27;, &#x27;bridges_community&#x27;]</td><td style=\"text-align:left\">keeling_community</td><td style=\"text-align:left\">5                  </td><td style=\"text-align:left\">True                          </td><td style=\"text-align:left\">not specified                                                                    </td></tr>\n",
       "<tr><td style=\"text-align:left\">spatial_access         </td><td style=\"text-align:left\">[&#x27;keeling_community&#x27;]                     </td><td style=\"text-align:left\">keeling_community</td><td style=\"text-align:left\">5                  </td><td style=\"text-align:left\">False                         </td><td style=\"text-align:left\">not specified                                                                    </td></tr>\n",
       "</tbody>\n",
       "</table>"
      ],
      "text/plain": [
       "<IPython.core.display.HTML object>"
      ]
     },
     "metadata": {},
     "output_type": "display_data"
    }
   ],
   "source": [
    "cybergis.list_maintainer()"
   ]
  },
  {
   "cell_type": "code",
   "execution_count": 5,
   "metadata": {},
   "outputs": [
    {
     "data": {
      "text/html": [
       "<table>\n",
       "<thead>\n",
       "<tr><th style=\"text-align:left\">link                         </th><th style=\"text-align:left\">name                          </th><th style=\"text-align:left\">container  </th><th style=\"text-align:left\">repository                                                                      </th><th style=\"text-align:left\">commit  </th></tr>\n",
       "</thead>\n",
       "<tbody>\n",
       "<tr><td style=\"text-align:left\">git://hello_world            </td><td style=\"text-align:left\">hello world                   </td><td style=\"text-align:left\">python     </td><td style=\"text-align:left\">https://github.com/cybergis/cybergis-compute-hello-world.git                    </td><td style=\"text-align:left\">NONE    </td></tr>\n",
       "<tr><td style=\"text-align:left\">git://bridge_hello_world     </td><td style=\"text-align:left\">hello world                   </td><td style=\"text-align:left\">python     </td><td style=\"text-align:left\">https://github.com/cybergis/CyberGIS-Compute-Bridges-2.git                      </td><td style=\"text-align:left\">NONE    </td></tr>\n",
       "<tr><td style=\"text-align:left\">git://spatial_access_covid-19</td><td style=\"text-align:left\">COVID-19 spatial accessibility</td><td style=\"text-align:left\">python     </td><td style=\"text-align:left\">https://github.com/alexandermichels/cybergis-compute-spatial-access-covid-19.git</td><td style=\"text-align:left\">NONE    </td></tr>\n",
       "</tbody>\n",
       "</table>"
      ],
      "text/plain": [
       "<IPython.core.display.HTML object>"
      ]
     },
     "metadata": {},
     "output_type": "display_data"
    }
   ],
   "source": [
    "cybergis.list_git()"
   ]
  },
  {
   "cell_type": "code",
   "execution_count": 6,
   "metadata": {},
   "outputs": [
    {
     "name": "stdout",
     "output_type": "stream",
     "text": [
      "📃 created constructor file [job_constructor_16262141807OlhW.json]\n"
     ]
    }
   ],
   "source": [
    "demo_job = cybergis.create_job('community_contribution', hpc='bridges_community')"
   ]
  },
  {
   "cell_type": "code",
   "execution_count": 7,
   "metadata": {},
   "outputs": [
    {
     "name": "stdout",
     "output_type": "stream",
     "text": [
      "{'param': {'key_a': 'val_a'}, 'env': {}, 'slurm': {}, 'executableFolder': 'git://hello_world'}\n"
     ]
    }
   ],
   "source": [
    "demo_job.set(executableFolder=\"git://hello_world\", param={\"key_a\": \"val_a\"})"
   ]
  },
  {
   "cell_type": "code",
   "execution_count": 8,
   "metadata": {},
   "outputs": [
    {
     "name": "stdout",
     "output_type": "stream",
     "text": [
      "✅ job submitted\n"
     ]
    },
    {
     "data": {
      "text/plain": [
       "<cybergis_compute_client.Job.Job at 0x7fe994a6e8e0>"
      ]
     },
     "execution_count": 8,
     "metadata": {},
     "output_type": "execute_result"
    }
   ],
   "source": [
    "demo_job.submit()"
   ]
  },
  {
   "cell_type": "code",
   "execution_count": 9,
   "metadata": {},
   "outputs": [
    {
     "name": "stdout",
     "output_type": "stream",
     "text": [
      "📮 Job ID: 16262141807OlhW\n",
      "💻 HPC: bridges_community\n",
      "🤖 Maintainer: community_contribution\n"
     ]
    },
    {
     "data": {
      "text/html": [
       "<table>\n",
       "<thead>\n",
       "<tr><th>types             </th><th>message                                                                                                               </th><th>time                    </th></tr>\n",
       "</thead>\n",
       "<tbody>\n",
       "<tr><td>JOB_QUEUED        </td><td>job [16262141807OlhW] is queued, waiting for registration                                                             </td><td>2021-07-13T17:10:20.000Z</td></tr>\n",
       "<tr><td>JOB_REGISTERED    </td><td>job [16262141807OlhW] is registered with the supervisor, waiting for initialization                                   </td><td>2021-07-13T17:10:20.000Z</td></tr>\n",
       "<tr><td>SLURM_UPLOAD      </td><td>uploading files                                                                                                       </td><td>2021-07-13T17:10:27.000Z</td></tr>\n",
       "<tr><td>SSH_UNZIP         </td><td>unzipping /jet/home/cybergis/data/16262141807OlhW/executable.zip to /jet/home/cybergis/data/16262141807OlhW/executable</td><td>2021-07-13T17:10:27.000Z</td></tr>\n",
       "<tr><td>SSH_RM            </td><td>removing /jet/home/cybergis/data/16262141807OlhW/executable.zip                                                       </td><td>2021-07-13T17:10:30.000Z</td></tr>\n",
       "<tr><td>SSH_CREATE_FILE   </td><td>create file to /jet/home/cybergis/data/16262141807OlhW/executable/job.json                                            </td><td>2021-07-13T17:10:36.000Z</td></tr>\n",
       "<tr><td>SLURM_MKDIR_RESULT</td><td>creating result folder                                                                                                </td><td>2021-07-13T17:10:42.000Z</td></tr>\n",
       "<tr><td>SLURM_SUBMIT      </td><td>submitting slurm job                                                                                                  </td><td>2021-07-13T17:10:42.000Z</td></tr>\n",
       "<tr><td>JOB_RETRY         </td><td>job [16262141807OlhW] encountered system error TypeError: Cannot read property &#x27;includes&#x27; of null                     </td><td>2021-07-13T17:10:47.000Z</td></tr>\n",
       "<tr><td>SLURM_UPLOAD      </td><td>uploading files                                                                                                       </td><td>2021-07-13T17:10:49.000Z</td></tr>\n",
       "<tr><td>SSH_UNZIP         </td><td>unzipping /jet/home/cybergis/data/16262141807OlhW/executable.zip to /jet/home/cybergis/data/16262141807OlhW/executable</td><td>2021-07-13T17:10:49.000Z</td></tr>\n",
       "<tr><td>SSH_RM            </td><td>removing /jet/home/cybergis/data/16262141807OlhW/executable.zip                                                       </td><td>2021-07-13T17:10:54.000Z</td></tr>\n",
       "<tr><td>SSH_CREATE_FILE   </td><td>create file to /jet/home/cybergis/data/16262141807OlhW/executable/job.json                                            </td><td>2021-07-13T17:10:57.000Z</td></tr>\n",
       "<tr><td>SLURM_MKDIR_RESULT</td><td>creating result folder                                                                                                </td><td>2021-07-13T17:11:05.000Z</td></tr>\n",
       "<tr><td>SLURM_SUBMIT      </td><td>submitting slurm job                                                                                                  </td><td>2021-07-13T17:11:05.000Z</td></tr>\n",
       "<tr><td>JOB_RETRY         </td><td>job [16262141807OlhW] encountered system error TypeError: Cannot read property &#x27;includes&#x27; of null                     </td><td>2021-07-13T17:11:10.000Z</td></tr>\n",
       "<tr><td>SLURM_UPLOAD      </td><td>uploading files                                                                                                       </td><td>2021-07-13T17:11:15.000Z</td></tr>\n",
       "<tr><td>SSH_UNZIP         </td><td>unzipping /jet/home/cybergis/data/16262141807OlhW/executable.zip to /jet/home/cybergis/data/16262141807OlhW/executable</td><td>2021-07-13T17:11:18.000Z</td></tr>\n",
       "<tr><td>SSH_RM            </td><td>removing /jet/home/cybergis/data/16262141807OlhW/executable.zip                                                       </td><td>2021-07-13T17:11:21.000Z</td></tr>\n",
       "<tr><td>SSH_CREATE_FILE   </td><td>create file to /jet/home/cybergis/data/16262141807OlhW/executable/job.json                                            </td><td>2021-07-13T17:11:28.000Z</td></tr>\n",
       "<tr><td>SLURM_MKDIR_RESULT</td><td>creating result folder                                                                                                </td><td>2021-07-13T17:11:33.000Z</td></tr>\n",
       "<tr><td>SLURM_SUBMIT      </td><td>submitting slurm job                                                                                                  </td><td>2021-07-13T17:11:36.000Z</td></tr>\n",
       "<tr><td>JOB_RETRY         </td><td>job [16262141807OlhW] encountered system error TypeError: Cannot read property &#x27;includes&#x27; of null                     </td><td>2021-07-13T17:11:37.000Z</td></tr>\n",
       "<tr><td>JOB_FAILED        </td><td>initialization counter exceeds 3 counts                                                                               </td><td>2021-07-13T17:11:40.000Z</td></tr>\n",
       "</tbody>\n",
       "</table>"
      ],
      "text/plain": [
       "<IPython.core.display.HTML object>"
      ]
     },
     "metadata": {},
     "output_type": "display_data"
    }
   ],
   "source": [
    "demo_job.events(liveOutput=True, refreshRateInSeconds=5)"
   ]
  },
  {
   "cell_type": "code",
   "execution_count": null,
   "metadata": {},
   "outputs": [],
   "source": [
    "demo_job.logs(liveOutput=True)"
   ]
  },
  {
   "cell_type": "code",
   "execution_count": null,
   "metadata": {},
   "outputs": [],
   "source": [
    "demo_job.downloadResultFolder('./')"
   ]
  },
  {
   "cell_type": "code",
   "execution_count": null,
   "metadata": {},
   "outputs": [],
   "source": []
  }
 ],
 "metadata": {
  "kernelspec": {
   "display_name": "Python 3",
   "language": "python",
   "name": "python3"
  },
  "language_info": {
   "codemirror_mode": {
    "name": "ipython",
    "version": 3
   },
   "file_extension": ".py",
   "mimetype": "text/x-python",
   "name": "python",
   "nbconvert_exporter": "python",
   "pygments_lexer": "ipython3",
   "version": "3.8.5"
  }
 },
 "nbformat": 4,
 "nbformat_minor": 4
}
